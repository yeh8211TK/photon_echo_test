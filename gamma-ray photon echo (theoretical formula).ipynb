{
 "cells": [
  {
   "cell_type": "code",
   "execution_count": 1,
   "metadata": {
    "collapsed": true
   },
   "outputs": [],
   "source": [
    "%matplotlib inline\n",
    "import  sympy\n",
    "sympy.init_printing()\n",
    "from sympy import I, pi, oo\n",
    "import  numpy  as  np\n",
    "import matplotlib as mpl\n",
    "import matplotlib.pyplot as plt\n",
    "plt.rcParams[\"axes.unicode_minus\"] = False"
   ]
  },
  {
   "cell_type": "code",
   "execution_count": null,
   "metadata": {},
   "outputs": [],
   "source": [
    "t, T, t0, widp, M, Gamma, k, S, OD, m, r=sympy.symbols(\"t, T, t0, widp, M, Gamma, k, S, OD, m, r\")\n",
    "values={T:120, t0:50, widp:5, M:3, Gamma:1/141.1, k:0 , S:50, OD:7.96*3}\n",
    "\n",
    "SUM1=sympy.summation(sympy.exp(-(k*widp*m*S*Gamma/2)**2),(m, -(M-1)/2, (M-1)/2))\n",
    "SUM2=sympy.summation(sympy.exp(-(k*widp*m*S*Gamma/2)**2)/(-r*np.pi/T-m*S*Gamma+complex(0,1)*Gamma/2), (m, -(M-1)/2, (M-1)/2))\n",
    "SUM3=sympy.summation(sympy.exp(-(r*np.pi*widp/(2*T))**2+complex(0,1)*r*np.pi*(t-t0)/(T)-2*complex(0,1)*Gamma*OD/SUM1*SUM2), (r, -T, T))\n",
    "\n",
    "expr_out=np.pi**0.5*widp/(2*T)*SUM3\n",
    "tvalues = np.linspace(0, 2, 3)\n",
    "expr_func_out= sympy.lambdify(t, np.abs(expr_out.subs(values).doit())**2,'numpy')\n",
    "print(expr_func_out(tvalues))\n",
    "#summation\n",
    "#u=sympy.Symbol('u')\n",
    "#print(np.abs(sympy.summation(1/u+sympy.exp(complex(0,1)),(u,1,5))).doit())\n",
    "#print(sympy.exp(complex(0,1)).doit())"
   ]
  },
  {
   "cell_type": "code",
   "execution_count": null,
   "metadata": {
    "collapsed": true
   },
   "outputs": [],
   "source": [
    "t, T, t0, widp, M, Gamma, k, S, OD, m, r=sympy.symbols(\"t, T, t0, widp, M, Gamma, k, S, OD, m, r\")\n",
    "values={T:120, t0:50, widp:5, M:3, Gamma:1/141.1, k:0 , S:50, OD:7.96*3}\n",
    "\n",
    "SUM1=sympy.Sum(sympy.exp(-(k*widp*m*S*Gamma/2)**2),(m, -(M-1)/2, (M-1)/2))\n",
    "SUM2=sympy.Sum(sympy.exp(-(k*widp*m*S*Gamma/2)**2)/(-r*pi/T-m*S*Gamma+I*Gamma/2), (m, -(M-1)/2, (M-1)/2))\n",
    "SUM3=sympy.Sum(sympy.exp(-(r*pi*widp/(2*T))**2+I*r*pi*(t-t0)/(T)-2*I*Gamma*OD/SUM1*SUM2), (r, -T, T))\n",
    "\n",
    "expr_out=pi**0.5*widp/(2*T)*SUM3\n",
    "expr_func_out= sympy.lambdify(t, np.abs(expr_out.subs(values).doit())**2,'numpy')\n",
    "\n",
    "expr_in=sympy.exp(-((t-t0)/widp)**2)\n",
    "expr_func_in = sympy.lambdify(t, np.abs(expr_in.doit())**2,'numpy')\n",
    "\n",
    "tvalues = np.linspace(0, 120, 120)\n",
    "expr_func_out(tvalues)\n",
    "expr_func_in(tvalues)\n",
    "\n",
    "fig, ax=plt.subplots()\n",
    "ax.plot(tvalues, expr_func_in(tvalues), color='blue', label=r\"$|\\Omega_p(t,0)_{in}|^{2}$\", lw=1)\n",
    "ax.plot(tvalues, expr_func_out(tvalues), color='red', label=r\"$|\\Omega_p(t,L)_{out}|^{2}$\", lw=1)\n",
    "ax.set_xlabel(\"time (ns)\")\n",
    "ax.set_ylabel(\"Intensity\")\n",
    "ax.legend(fontsize=12)"
   ]
  },
  {
   "cell_type": "code",
   "execution_count": 10,
   "metadata": {},
   "outputs": [
    {
     "name": "stdout",
     "output_type": "stream",
     "text": [
      "0.4818\n"
     ]
    }
   ],
   "source": [
    "#Calculate the first echo efficiency\n",
    "t_range_in=np.linspace(40, 60, 201)\n",
    "t_range_out=np.linspace(60, 80, 201)\n",
    "dt=20/200;\n",
    "efficiency=np.sum(expr_func_out(t_range_out)*dt)/np.sum((expr_func_in(t_range_in)*dt))\n",
    "print(sympy.Float(efficiency, 4))"
   ]
  },
  {
   "cell_type": "code",
   "execution_count": null,
   "metadata": {
    "collapsed": true
   },
   "outputs": [],
   "source": [
    "t, T, t0, widp, M, Gamma, k, S, OD, m, r=sympy.symbols(\"t, T, t0, widp, M, Gamma, k, S, OD, m, r\")\n",
    "values={T:500, t0:50, widp:5, M:3, Gamma:1/141.1, S:50, t:50+2*pi/(50/141.1), k:0}\n",
    "\n",
    "SUM1=sympy.Sum(sympy.exp(-(k*widp*m*S*Gamma/2)**2),(m, -(M-1)/2, (M-1)/2))\n",
    "SUM2=sympy.Sum(sympy.exp(-(k*widp*m*S*Gamma/2)**2)/(-r*pi/T-m*S*Gamma+I*Gamma/2), (m, -(M-1)/2, (M-1)/2))\n",
    "SUM3=sympy.Sum(sympy.exp(-(r*pi*widp/(2*T))**2+I*r*pi*(t-t0)/(T)-2*I*Gamma*OD/SUM1*SUM2), (r, -T, T))\n",
    "\n",
    "expr_out=pi**0.5*widp/(2*T)*SUM3\n",
    "expr_func_out = sympy.lambdify(OD, np.abs(expr_out.subs(values).doit())**2,'numpy')\n",
    "\n",
    "Xi = np.linspace(0, 100, 300)\n",
    "expr_func_out(Xi)\n",
    "\n",
    "fig, ax=plt.subplots()\n",
    "ax.plot(Xi, expr_func_out(Xi), color='blue', lw=1)\n",
    "ax.set_xlabel(\"nuclear resonance thickness\")\n",
    "ax.set_ylabel(\"first echo efficiency\")"
   ]
  },
  {
   "cell_type": "code",
   "execution_count": null,
   "metadata": {
    "collapsed": true
   },
   "outputs": [],
   "source": [
    "t, T, t0, widp, M, Gamma, k, S, OD, m, r=sympy.symbols(\"t, T, t0, widp, M, Gamma, k, S, OD, m, r\")\n",
    "values={T:500, t0:50, widp:5, M:9, Gamma:1/141.1, S:51.67, t:50+2*pi/(51.67/141.1)}\n",
    "\n",
    "SUM1=sympy.Sum(sympy.exp(-(k*widp*m*S*Gamma/2)**2),(m, -(M-1)/2, (M-1)/2))\n",
    "SUM2=sympy.Sum(sympy.exp(-(k*widp*m*S*Gamma/2)**2)/(-r*pi/T-m*S*Gamma+I*Gamma/2), (m, -(M-1)/2, (M-1)/2))\n",
    "SUM3=sympy.Sum(sympy.exp(-(r*pi*widp/(2*T))**2+I*r*pi*(t-t0)/(T)-2*I*Gamma*OD/SUM1*SUM2), (r, -T, T))\n",
    "\n",
    "expr_out=pi**0.5*widp/(2*T)*SUM3\n",
    "expr_func_out = sympy.lambdify((k, OD), np.abs(expr_out.subs(values).doit())**2,'numpy')\n",
    "\n",
    "k = np.linspace(0, 2, 100)\n",
    "OD = np.linspace(0, 100, 100)\n",
    "K, Xi=np.meshgrid(k, OD)\n",
    "max_intensity=expr_func_out(K, Xi)\n",
    "\n",
    "fig, ax=plt.subplots(figsize=(6, 5))\n",
    "pic=ax.imshow(max_intensity, origin='lower', aspect=\"auto\", extent=[0, 2, 0, 100])\n",
    "ax.set_xlabel(\"k\")\n",
    "ax.set_ylabel(\"Nuclear resonance thickness\")\n",
    "#contour\n",
    "CS=ax.contour(K, Xi, max_intensity, 10, colors='black')\n",
    "plt.clabel(CS, inline=True, fontsize=10, colors='black', linewidth=0.5)\n",
    "#colorbar\n",
    "cb = fig.colorbar(pic, ax=ax)\n",
    "cb.set_label(r\"max_intensity\", fontsize=12)\n",
    "cb.set_ticks(mpl.ticker.MultipleLocator(0.05))"
   ]
  }
 ],
 "metadata": {
  "kernelspec": {
   "display_name": "Python 3",
   "language": "python",
   "name": "python3"
  },
  "language_info": {
   "codemirror_mode": {
    "name": "ipython",
    "version": 3
   },
   "file_extension": ".py",
   "mimetype": "text/x-python",
   "name": "python",
   "nbconvert_exporter": "python",
   "pygments_lexer": "ipython3",
   "version": "3.5.4"
  }
 },
 "nbformat": 4,
 "nbformat_minor": 1
}
